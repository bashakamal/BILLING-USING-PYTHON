{
  "nbformat": 4,
  "nbformat_minor": 0,
  "metadata": {
    "colab": {
      "name": "BILLING SYSTEM.ipynb",
      "provenance": [],
      "collapsed_sections": []
    },
    "kernelspec": {
      "name": "python3",
      "display_name": "Python 3"
    },
    "language_info": {
      "name": "python"
    }
  },
  "cells": [
    {
      "cell_type": "code",
      "execution_count": null,
      "metadata": {
        "id": "iFUOBpnCM-Y0"
      },
      "outputs": [],
      "source": [
        "d1={'item':['coffee','Brownie','Rice','Juice'],'rate':[10,20,30,40]}"
      ]
    },
    {
      "cell_type": "code",
      "source": [
        "number=int(input())\n",
        "grand_total=0\n",
        "for i in range(number):\n",
        "  name=input(\"Item description :\")\n",
        "  a=(d1['rate'][d1['item'].index(name)])\n",
        "  qty=(float(input(\"No of qty: \")))\n",
        "  total= a*qty\n",
        "  gst=total*0.05\n",
        "  gstf=gst+total\n",
        "  grand_total= gstf + grand_total\n",
        "  \n",
        "  print( \"Bill amount Including tax :\", gstf )  \n",
        "print(\"TOTAL AMOUNT: \",grand_total)"
      ],
      "metadata": {
        "id": "n5lMdBnRNBo7"
      },
      "execution_count": null,
      "outputs": []
    }
  ]
}